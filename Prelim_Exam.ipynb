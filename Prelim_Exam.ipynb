{
  "nbformat": 4,
  "nbformat_minor": 0,
  "metadata": {
    "colab": {
      "name": "Prelim Exam.ipynb",
      "provenance": [],
      "authorship_tag": "ABX9TyMg8vtUj24qjlWviBsXL2Cp",
      "include_colab_link": true
    },
    "kernelspec": {
      "name": "python3",
      "display_name": "Python 3"
    },
    "language_info": {
      "name": "python"
    }
  },
  "cells": [
    {
      "cell_type": "markdown",
      "metadata": {
        "id": "view-in-github",
        "colab_type": "text"
      },
      "source": [
        "<a href=\"https://colab.research.google.com/github/GabCam23/OOP-1-1/blob/main/Prelim_Exam.ipynb\" target=\"_parent\"><img src=\"https://colab.research.google.com/assets/colab-badge.svg\" alt=\"Open In Colab\"/></a>"
      ]
    },
    {
      "cell_type": "markdown",
      "source": [
        "1.\tWrite a Python to display your full name, student number, age, and course\n",
        "2.\tCreate a class named Student with attributes: Name, Student_No, Age, School, and Course\n",
        "3.\tCreate an object name Myself and assign an instance for each attribute.\n",
        "4.\tCreate a method Info() using an instantiation of a class.\n",
        "5.\tInsert your GitHub link \"Prelim Exam\" from your repository named \"OOP 1-1\"\n",
        "\n"
      ],
      "metadata": {
        "id": "c1XzDvgsCoFr"
      }
    },
    {
      "cell_type": "code",
      "execution_count": 11,
      "metadata": {
        "colab": {
          "base_uri": "https://localhost:8080/"
        },
        "id": "1KAaq3HoCihx",
        "outputId": "8ba6bf5d-f63e-4629-b550-ca0bb25fecf7"
      },
      "outputs": [
        {
          "output_type": "stream",
          "name": "stdout",
          "text": [
            "My name is Gabriel Q. Camandono.\n",
            "202101726 is my student number.\n",
            "I am 18 years old.\n",
            "I am currently studying at Cavite State University - Don Severino delas Alas Campus.\n",
            "The course that I'm taking is BS Computer Engineering.\n"
          ]
        }
      ],
      "source": [
        "class Student():\n",
        "  def __init__(self,Name,Student_No,Age,School,Course):\n",
        "    self.Name = Name\n",
        "    self.Student_No = Student_No\n",
        "    self.Age = Age\n",
        "    self.School = School\n",
        "    self.Course = Course\n",
        "  \n",
        "  def Info(self):\n",
        "    print(\"My name is\",self.Name)\n",
        "    print(self.Student_No,\"is my student number.\")\n",
        "    print(\"I am\",self.Age,\"years old.\")\n",
        "    print(\"I am currently studying at\",self.School)\n",
        "    print(\"The course that I'm taking is\",self.Course)\n",
        "\n",
        "Myself = Student(\"Gabriel Q. Camandono.\",202101726,18,\"Cavite State University - Don Severino delas Alas Campus.\",\"BS Computer Engineering.\")\n",
        "Myself.Info()\n"
      ]
    }
  ]
}