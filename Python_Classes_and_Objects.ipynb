{
  "nbformat": 4,
  "nbformat_minor": 0,
  "metadata": {
    "colab": {
      "name": "Python Classes and Objects.ipynb",
      "provenance": [],
      "authorship_tag": "ABX9TyNA2wWmaipMVb3W22+JF/e1",
      "include_colab_link": true
    },
    "kernelspec": {
      "name": "python3",
      "display_name": "Python 3"
    },
    "language_info": {
      "name": "python"
    }
  },
  "cells": [
    {
      "cell_type": "markdown",
      "metadata": {
        "id": "view-in-github",
        "colab_type": "text"
      },
      "source": [
        "<a href=\"https://colab.research.google.com/github/GabCam23/OOP-1-1/blob/main/Python_Classes_and_Objects.ipynb\" target=\"_parent\"><img src=\"https://colab.research.google.com/assets/colab-badge.svg\" alt=\"Open In Colab\"/></a>"
      ]
    },
    {
      "cell_type": "markdown",
      "source": [
        "Class"
      ],
      "metadata": {
        "id": "V2iRSl9My76z"
      }
    },
    {
      "cell_type": "code",
      "execution_count": null,
      "metadata": {
        "id": "ZNqAXlGJyqTJ"
      },
      "outputs": [],
      "source": [
        "class MyClass:\n",
        "  pass\n"
      ]
    },
    {
      "cell_type": "code",
      "source": [
        "class MyClass:\n",
        "  def __init__(self,name,age):\n",
        "    self.name = name\n",
        "    self.age = age\n",
        "  \n",
        "  def display(self):\n",
        "    print(self.name,self.age)\n",
        "\n",
        "person = MyClass(\"Gabriel\",18)\n",
        "\n",
        "person.display()\n"
      ],
      "metadata": {
        "colab": {
          "base_uri": "https://localhost:8080/"
        },
        "id": "k6KwDyHEzv5K",
        "outputId": "97e7bd04-7fdb-473a-937a-858b13f5af6c"
      },
      "execution_count": 4,
      "outputs": [
        {
          "output_type": "stream",
          "name": "stdout",
          "text": [
            "Gabriel 18\n"
          ]
        }
      ]
    },
    {
      "cell_type": "code",
      "source": [
        "#Application 1- Write a Python program that computes for an area of rectangle: A=l*w\n",
        "\n",
        "class Rectangle:\n",
        "  def __init__(self,l,w):\n",
        "    self.l = l\n",
        "    self.w = w\n",
        "\n",
        "  def Area(self):\n",
        "    print(self.l * self.w)\n",
        "\n",
        "rect = Rectangle(7,3)\n",
        "rect.Area()"
      ],
      "metadata": {
        "colab": {
          "base_uri": "https://localhost:8080/"
        },
        "id": "47Dx9WtU2_mJ",
        "outputId": "75712a58-a8a2-4a99-c38d-891361dd7438"
      },
      "execution_count": 8,
      "outputs": [
        {
          "output_type": "stream",
          "name": "stdout",
          "text": [
            "21\n"
          ]
        }
      ]
    }
  ]
}