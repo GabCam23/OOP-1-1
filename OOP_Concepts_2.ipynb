{
  "nbformat": 4,
  "nbformat_minor": 0,
  "metadata": {
    "colab": {
      "name": "OOP Concepts 2.ipynb",
      "provenance": [],
      "authorship_tag": "ABX9TyOVaYq/gwA2wjbdITJS8vFW",
      "include_colab_link": true
    },
    "kernelspec": {
      "name": "python3",
      "display_name": "Python 3"
    },
    "language_info": {
      "name": "python"
    }
  },
  "cells": [
    {
      "cell_type": "markdown",
      "metadata": {
        "id": "view-in-github",
        "colab_type": "text"
      },
      "source": [
        "<a href=\"https://colab.research.google.com/github/GabCam23/OOP-1-1/blob/main/OOP_Concepts_2.ipynb\" target=\"_parent\"><img src=\"https://colab.research.google.com/assets/colab-badge.svg\" alt=\"Open In Colab\"/></a>"
      ]
    },
    {
      "cell_type": "code",
      "execution_count": null,
      "metadata": {
        "id": "RkSFQB4IOe3k",
        "colab": {
          "base_uri": "https://localhost:8080/"
        },
        "outputId": "c4567f32-05fc-4634-b761-079c51c1639d"
      },
      "outputs": [
        {
          "output_type": "stream",
          "name": "stdout",
          "text": [
            "Griffon Vulture flies above the sky\n",
            "Common Crane flies above the sky\n",
            "Emu is the national bird of Australia\n"
          ]
        }
      ],
      "source": [
        "class Birds:\n",
        "  def __init__(self,birds_name):\n",
        "    self.birds_name = birds_name\n",
        "  \n",
        "  def flying_birds(self):\n",
        "    print(self.birds_name,\"flies above the sky\")\n",
        "  \n",
        "  def non_flying_birds(self):\n",
        "    print(self.birds_name,\"is the national bird of Australia\")\n",
        "\n",
        "vulture = Birds(\"Griffon Vulture\")\n",
        "crane = Birds(\"Common Crane\")\n",
        "emu = Birds(\"Emu\")\n",
        "\n",
        "vulture.flying_birds()\n",
        "crane.flying_birds()\n",
        "emu.non_flying_birds()\n"
      ]
    },
    {
      "cell_type": "code",
      "source": [
        "class foo:\n",
        "  def __init__(self,a,b):\n",
        "    self.__a = a\n",
        "    self.__b = b\n",
        "  \n",
        "  def add(self):\n",
        "    return self.__a+self.__b\n",
        "\n",
        "object_foo = foo(3,4)\n",
        "object_foo.add()\n",
        "\n",
        "object_foo.__a = 6\n",
        "object_foo.__b = 7\n",
        "object_foo.add()"
      ],
      "metadata": {
        "colab": {
          "base_uri": "https://localhost:8080/"
        },
        "id": "gwHiVC52Rn1K",
        "outputId": "95416d3c-cb56-48a7-a7b8-5c72a4cf3673"
      },
      "execution_count": null,
      "outputs": [
        {
          "output_type": "execute_result",
          "data": {
            "text/plain": [
              "7"
            ]
          },
          "metadata": {},
          "execution_count": 3
        }
      ]
    },
    {
      "cell_type": "code",
      "source": [
        "class Counter:\n",
        "  def __init__(self):\n",
        "    self.current = 0\n",
        "\n",
        "  def increment(self):\n",
        "    self.current+=1\n",
        "  \n",
        "  def value(self):\n",
        "    return self.current\n",
        "  \n",
        "  def reset(self):\n",
        "    self.current = 0\n",
        "\n",
        "number = Counter()\n",
        "number.increment()\n",
        "number.increment()\n",
        "number.increment()\n",
        "\n",
        "print(number.value())\n"
      ],
      "metadata": {
        "colab": {
          "base_uri": "https://localhost:8080/"
        },
        "id": "8AgjXbmZSe3e",
        "outputId": "8d9d264e-dcba-439e-fbba-54f1429cbf3a"
      },
      "execution_count": null,
      "outputs": [
        {
          "output_type": "stream",
          "name": "stdout",
          "text": [
            "3\n"
          ]
        }
      ]
    },
    {
      "cell_type": "code",
      "source": [
        "class Counter:\n",
        "  def __init__(self):\n",
        "    self.__current = 0\n",
        "\n",
        "  def increment(self):\n",
        "    self.__current+=1\n",
        "  \n",
        "  def value(self):\n",
        "    return self.__current\n",
        "  \n",
        "  def reset(self):\n",
        "    self.__current = 0\n",
        "\n",
        "number = Counter()\n",
        "number.increment()\n",
        "number.increment()\n",
        "number.increment()\n",
        "\n",
        "\n",
        "print(number.value())"
      ],
      "metadata": {
        "colab": {
          "base_uri": "https://localhost:8080/"
        },
        "id": "4PmZ0ZgUT7oc",
        "outputId": "063631d0-7055-4630-8a80-2a39164c4ad8"
      },
      "execution_count": null,
      "outputs": [
        {
          "output_type": "stream",
          "name": "stdout",
          "text": [
            "3\n"
          ]
        }
      ]
    },
    {
      "cell_type": "markdown",
      "source": [
        "Inheritance"
      ],
      "metadata": {
        "id": "SVfLhaeBVE6H"
      }
    },
    {
      "cell_type": "code",
      "source": [
        "class Person():\n",
        "  def __init__(self,firstname,surname):\n",
        "    self.firstname = firstname\n",
        "    self.surname = surname\n",
        "  \n",
        "  def fullname(self):\n",
        "    print(self.firstname,self.surname)\n",
        "\n",
        "person = Person(\"Koya\",\"Gab\")\n",
        "person.fullname()\n",
        "\n",
        "class Teacher(Person):\n",
        "  pass\n",
        "person2 = Teacher(\"Maam\",\"Maria\")\n",
        "person2.fullname()\n",
        "\n",
        "class Student(Person):\n",
        "  pass\n",
        "\n",
        "person3 = Student(\"Gabriel\",\"Camandono\")\n",
        "person3.fullname()"
      ],
      "metadata": {
        "colab": {
          "base_uri": "https://localhost:8080/"
        },
        "id": "bv70Sdz7VBH2",
        "outputId": "3dfab99e-643b-41d4-fad4-5ebdcbefc870"
      },
      "execution_count": null,
      "outputs": [
        {
          "output_type": "stream",
          "name": "stdout",
          "text": [
            "Koya Gab\n",
            "Maam Maria\n",
            "Gabriel Camandono\n"
          ]
        }
      ]
    },
    {
      "cell_type": "markdown",
      "source": [
        "Polymorphism"
      ],
      "metadata": {
        "id": "rfoArbQOXeHR"
      }
    },
    {
      "cell_type": "code",
      "source": [
        "class RegularPolygon:\n",
        "  def __init__(self,side):\n",
        "    self.side = side\n",
        "class Square(RegularPolygon):\n",
        "  def area(self):\n",
        "    return self.side * self.side\n",
        "class EquilateralTriangle(RegularPolygon):\n",
        "  def area(self):\n",
        "    return self.side * self.side * 0.433\n",
        "\n",
        "obj1 = Square(4)\n",
        "print(obj1.area())\n",
        "\n",
        "obj2 = EquilateralTriangle(3)\n",
        "print(obj2.area())"
      ],
      "metadata": {
        "colab": {
          "base_uri": "https://localhost:8080/"
        },
        "id": "v2LflJI-W0m0",
        "outputId": "08c02038-cdd7-490e-e728-9b0cec34fd42"
      },
      "execution_count": null,
      "outputs": [
        {
          "output_type": "stream",
          "name": "stdout",
          "text": [
            "16\n",
            "3.897\n"
          ]
        }
      ]
    },
    {
      "cell_type": "markdown",
      "source": [
        "1.\tCreate a Python program that displays the name of three students (Student 1, Student 2, and Student 3) and their term grades\n",
        "2.\tCreate a class name Person and attributes – std1, std2, std2, pre, mid, fin\n",
        "3.\tCompute the average of each term grade using Grade() method\n",
        "4.\tInformation about student’s grades must be hidden from others\n",
        "5.\tSave your python program named as “OOP Concepts 2” to your GitHub repository “OOP 1-1”\n",
        "6.\tShare your GitHub link attached with this manuscript.\n"
      ],
      "metadata": {
        "id": "MBrkrneUVdxp"
      }
    },
    {
      "cell_type": "code",
      "source": [
        "class Person:\n",
        "  def __init__(self,pre,mid,fin):\n",
        "    self.__pre = pre\n",
        "    self.__mid = mid\n",
        "    self.__fin = fin\n",
        "\n",
        "  def Grade(self):\n",
        "    return (self.__pre+self.__mid+self.__fin)/3\n",
        "  \n",
        "std1 = Person(19,19,50)\n",
        "print(std1.Grade())\n",
        "\n",
        "std2 = Person(17,15,38)\n",
        "print(std2.Grade())\n",
        "\n",
        "std3 = Person(20,20,60)\n",
        "print(std3.Grade())"
      ],
      "metadata": {
        "colab": {
          "base_uri": "https://localhost:8080/"
        },
        "id": "Y8PXko5071pc",
        "outputId": "336f8593-d1ab-4a1c-9de3-f380692fccfe"
      },
      "execution_count": 36,
      "outputs": [
        {
          "output_type": "stream",
          "name": "stdout",
          "text": [
            "29.333333333333332\n",
            "23.333333333333332\n",
            "33.333333333333336\n"
          ]
        }
      ]
    }
  ]
}