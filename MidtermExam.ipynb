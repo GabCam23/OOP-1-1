{
  "nbformat": 4,
  "nbformat_minor": 0,
  "metadata": {
    "colab": {
      "name": "MidtermExam.ipynb",
      "provenance": [],
      "authorship_tag": "ABX9TyMae1au+9W/LCLJh6JVRk+G",
      "include_colab_link": true
    },
    "kernelspec": {
      "name": "python3",
      "display_name": "Python 3"
    },
    "language_info": {
      "name": "python"
    }
  },
  "cells": [
    {
      "cell_type": "markdown",
      "metadata": {
        "id": "view-in-github",
        "colab_type": "text"
      },
      "source": [
        "<a href=\"https://colab.research.google.com/github/GabCam23/OOP-1-1/blob/main/MidtermExam.ipynb\" target=\"_parent\"><img src=\"https://colab.research.google.com/assets/colab-badge.svg\" alt=\"Open In Colab\"/></a>"
      ]
    },
    {
      "cell_type": "code",
      "execution_count": 1,
      "metadata": {
        "colab": {
          "base_uri": "https://localhost:8080/"
        },
        "id": "3TF2RoVUg7jx",
        "outputId": "23515606-c6af-49dd-db7f-a63bcdb7ef90"
      },
      "outputs": [
        {
          "output_type": "stream",
          "name": "stdout",
          "text": [
            "Enter the temperature in Celsius: 35\n",
            "308.15 Kelvin\n",
            "95.0 Fahrenheit\n",
            "1.6666666666666667 Celsius\n",
            "-238.14999999999998 Celsius\n"
          ]
        }
      ],
      "source": [
        "def main():\n",
        " class TemperatureConversion:\n",
        "  def __init__(self, temp=1):\n",
        "   self._temp = temp\n",
        " class CelsiusToFahrenheit(TemperatureConversion):\n",
        "  def conversion(self):\n",
        "   return (self._temp * 9) / 5 + 32\n",
        " class CelsiusToKelvin(TemperatureConversion):\n",
        "  def conversion(self):\n",
        "   return self._temp + 273.15\n",
        " class FahrenheitToCelsius(TemperatureConversion):\n",
        "  def conversion(self):\n",
        "   return (self._temp - 32) * 5/9\n",
        "   \n",
        " class KelvinToCelsius(TemperatureConversion):\n",
        "  def conversion(self):\n",
        "   return self._temp - 273.15\n",
        "\n",
        " tempInCelsius = float(input(\"Enter the temperature in Celsius: \"))\n",
        " convert = CelsiusToKelvin(tempInCelsius)\n",
        " print(str(convert.conversion()) + \" Kelvin\")\n",
        " convert = CelsiusToFahrenheit(tempInCelsius)\n",
        " print(str(convert.conversion()) + \" Fahrenheit\")\n",
        " convert = FahrenheitToCelsius(tempInCelsius)\n",
        " print(str(convert.conversion()) + \" Celsius\")\n",
        " convert = KelvinToCelsius(tempInCelsius)\n",
        " print(str(convert.conversion()) + \" Celsius\")\n",
        "\n",
        "\n",
        "main()"
      ]
    }
  ]
}