{
  "nbformat": 4,
  "nbformat_minor": 0,
  "metadata": {
    "colab": {
      "name": "Classes and Objects.ipynb",
      "provenance": [],
      "authorship_tag": "ABX9TyN5ZgwKCMwWNlyaGr019/rA",
      "include_colab_link": true
    },
    "kernelspec": {
      "name": "python3",
      "display_name": "Python 3"
    },
    "language_info": {
      "name": "python"
    }
  },
  "cells": [
    {
      "cell_type": "markdown",
      "metadata": {
        "id": "view-in-github",
        "colab_type": "text"
      },
      "source": [
        "<a href=\"https://colab.research.google.com/github/GabCam23/OOP-1-1/blob/main/Classes_and_Objects.ipynb\" target=\"_parent\"><img src=\"https://colab.research.google.com/assets/colab-badge.svg\" alt=\"Open In Colab\"/></a>"
      ]
    },
    {
      "cell_type": "markdown",
      "source": [
        "Application 2 - Write a python program that displays the fullname of a student, student number, age, course, and school. Create a class name OOP_1_1 and create Info() method to display the information of a student with fullname, student_no,age, course, school as attributes"
      ],
      "metadata": {
        "id": "a1bhWk1X1rSY"
      }
    },
    {
      "cell_type": "code",
      "source": [
        "class OOP_1_1:\n",
        "  def __init__(self,fullname,student_no,age,course,school):\n",
        "    self.fullname = fullname\n",
        "    self.student_no = student_no\n",
        "    self.age = age\n",
        "    self.course = course\n",
        "    self.school = school\n",
        "\n",
        "  def Info(self):\n",
        "    print(self.fullname,self.student_no,self.age,self.course,self.school)\n",
        "\n",
        "student = OOP_1_1(\"Gabriel Q. Camandono\",202101726,18,\"BSCpE\",\"CvSU\")\n",
        "student.Info()"
      ],
      "metadata": {
        "colab": {
          "base_uri": "https://localhost:8080/"
        },
        "id": "HCfjFlIc2eUB",
        "outputId": "9965574e-8b92-4c09-d06b-63603949e2f5"
      },
      "execution_count": 2,
      "outputs": [
        {
          "output_type": "stream",
          "name": "stdout",
          "text": [
            "Gabriel Q. Camandono 202101726 18 BSCpE CvSU\n"
          ]
        }
      ]
    },
    {
      "cell_type": "code",
      "source": [
        "class OOP_1_1:\n",
        "  def __init__(self,fullname,student_no,age,course,school):\n",
        "    self.fullname = fullname\n",
        "    self.student_no = student_no\n",
        "    self.age = age\n",
        "    self.course = course\n",
        "    self.school = school\n",
        "\n",
        "  def Info(self):\n",
        "    #print(self.fullname,self.student_no,self.age,self.course,self.school)\n",
        "    print(\"My name is\",self.fullname)\n",
        "    print(\"My student number is\",self.student_no)\n",
        "    print(\"My age is\",self.age)\n",
        "    print(\"My course is\",self.course)\n",
        "    print(\"My school is\",self.school)\n",
        "\n",
        "student = OOP_1_1(\"Gabriel Q. Camandono\",202101726,18,\"BSCpE\",\"CvSU\")\n",
        "student.Info()"
      ],
      "metadata": {
        "colab": {
          "base_uri": "https://localhost:8080/"
        },
        "id": "9OfiPmkC5Gy4",
        "outputId": "328df938-2d25-4346-942f-67d4601d4904"
      },
      "execution_count": 3,
      "outputs": [
        {
          "output_type": "stream",
          "name": "stdout",
          "text": [
            "My name is Gabriel Q. Camandono\n",
            "My student number is 202101726\n",
            "My age is 18\n",
            "My course is BSCpE\n",
            "My school is CvSU\n"
          ]
        }
      ]
    },
    {
      "cell_type": "markdown",
      "source": [
        "Application 3 - Define an Area() method of the class that calculates the circle's area. Define a Circumference() method of the class that calculate the perimeter of the circle."
      ],
      "metadata": {
        "id": "iEGu-cza9Ef7"
      }
    },
    {
      "cell_type": "code",
      "source": [
        "π = 3.14\n",
        "r = float(input(\"Enter the radius of circle:\"))\n",
        "\n",
        "area = π*r**2\n",
        "\n",
        "\n",
        "print(\"The area of the circle = %0.2f\" %area)"
      ],
      "metadata": {
        "colab": {
          "base_uri": "https://localhost:8080/"
        },
        "id": "RkdXpBkg9wYv",
        "outputId": "43a1f4f2-d794-400e-b4c6-a6318c4fd903"
      },
      "execution_count": 6,
      "outputs": [
        {
          "output_type": "stream",
          "name": "stdout",
          "text": [
            "Enter the radius of circle:2\n",
            "Area of circle = 12.56\n"
          ]
        }
      ]
    },
    {
      "cell_type": "code",
      "source": [
        "π = 3.14\n",
        "r = float(input(\"Enter the radius of circle:\"))\n",
        "\n",
        "circumference = 2*π*r\n",
        "\n",
        "print(\"The circumference of the circle = %0.2f\" %circumference)"
      ],
      "metadata": {
        "colab": {
          "base_uri": "https://localhost:8080/"
        },
        "id": "UyP5kxU7GiQQ",
        "outputId": "522aedae-a543-4fbe-ec7a-77bb686b2ed8"
      },
      "execution_count": 9,
      "outputs": [
        {
          "output_type": "stream",
          "name": "stdout",
          "text": [
            "Enter the radius of circle:5\n",
            "The circumference of the circle = 31.40\n"
          ]
        }
      ]
    }
  ]
}